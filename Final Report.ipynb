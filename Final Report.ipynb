{
  "cells": [
    {
      "metadata": {
        "trusted": true
      },
      "cell_type": "markdown",
      "source": "# <center>Stock Market Analysis"
    },
    {
      "metadata": {},
      "cell_type": "markdown",
      "source": "### 1   Introduction(Presentation of the subject)"
    },
    {
      "metadata": {
        "trusted": true
      },
      "cell_type": "markdown",
      "source": "### 2   Literature review(Brief review of literature on this subject. May include web pages.)"
    },
    {
      "metadata": {},
      "cell_type": "markdown",
      "source": "### 3   Brief description of the methods(Brief description of the method)"
    },
    {
      "metadata": {},
      "cell_type": "markdown",
      "source": "### 4   Resources available in R(Review of R resources. May include web pages.(core))"
    },
    {
      "metadata": {},
      "cell_type": "markdown",
      "source": "### 5   Data analysis example(Examples of analyzes with data.(core). Should be written as an example. https://cran.r-project.org/web/packages/httr/vignettes/quickstart.html)"
    },
    {
      "metadata": {},
      "cell_type": "markdown",
      "source": ""
    },
    {
      "metadata": {
        "trusted": true
      },
      "cell_type": "markdown",
      "source": "ansdknaksdnlaksndlak"
    },
    {
      "metadata": {
        "trusted": true
      },
      "cell_type": "code",
      "source": "",
      "execution_count": null,
      "outputs": []
    }
  ],
  "metadata": {
    "kernelspec": {
      "name": "r",
      "display_name": "R",
      "language": "R"
    },
    "language_info": {
      "mimetype": "text/x-r-source",
      "name": "R",
      "pygments_lexer": "r",
      "version": "3.5.3",
      "file_extension": ".r",
      "codemirror_mode": "r"
    }
  },
  "nbformat": 4,
  "nbformat_minor": 1
}